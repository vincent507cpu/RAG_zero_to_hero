{
 "cells": [
  {
   "cell_type": "markdown",
   "metadata": {},
   "source": [
    "上一篇文章把信息转换成了向量，现在需要使用这些向量。vector store 不仅是存储向量的容器，也是检索引擎。主流的 vector store 有 FAISS、Chroma、Pinecone 和 Milvus 等，还有一些云数据库。这里使用 FAISS。首先需要安装功能包：`pip install faiss-cpu langchain-community`，然后准备一点数据："
   ]
  },
  {
   "cell_type": "code",
   "execution_count": 5,
   "metadata": {},
   "outputs": [
    {
     "name": "stderr",
     "output_type": "stream",
     "text": [
      "/Users/wenjiazhai/miniconda3/envs/langchain/lib/python3.11/site-packages/sentence_transformers/cross_encoder/CrossEncoder.py:13: TqdmWarning: IProgress not found. Please update jupyter and ipywidgets. See https://ipywidgets.readthedocs.io/en/stable/user_install.html\n",
      "  from tqdm.autonotebook import tqdm, trange\n"
     ]
    }
   ],
   "source": [
    "import os\n",
    "from pathlib import Path\n",
    "from langchain_community.document_loaders import TextLoader\n",
    "from langchain_text_splitters import RecursiveCharacterTextSplitter\n",
    "from langchain_huggingface import HuggingFaceEmbeddings\n",
    "\n",
    "embedding = HuggingFaceEmbeddings(model_name='BAAI/bge-small-en-v1.5')\n",
    "\n",
    "root = os.getcwd()\n",
    "loader = TextLoader(os.path.join(root, 'data/paul_graham/paul_graham_essay.txt'))\n",
    "data = loader.load()\n",
    "\n",
    "text_splitter = RecursiveCharacterTextSplitter(chunk_size=500, chunk_overlap=50)\n",
    "docs = text_splitter.split_documents(data)"
   ]
  },
  {
   "cell_type": "markdown",
   "metadata": {},
   "source": [
    "创建 vector store 实例很方便，既可以先创建空白 vector store，然后再添加数据。这里需要说明一下，保存向量的 store 是 vector store，而仅有 vector store 没有意义。还需要一个存储文档的 store 叫 doc store 和文档与向量之间的对应关系。在创建空 vector store 时，doc store 和关系也需要提供空白的空间，后续添加信息时也要手动添加。"
   ]
  },
  {
   "cell_type": "code",
   "execution_count": 9,
   "metadata": {},
   "outputs": [],
   "source": [
    "import faiss\n",
    "from langchain_community.vectorstores import FAISS\n",
    "from langchain_community.docstore.in_memory import InMemoryDocstore\n",
    "\n",
    "dim = len(embedding.embed_query(\"hello\")) # 384\n",
    "index = faiss.IndexFlatL2(dim)\n",
    "\n",
    "vector_store = FAISS(embedding_function=embedding,\n",
    "                     index=index,\n",
    "                     docstore=InMemoryDocstore(),\n",
    "                     index_to_docstore_id={})"
   ]
  },
  {
   "cell_type": "markdown",
   "metadata": {},
   "source": [
    "也可以直接使用带有 metadata 的 documents，或使用更简单的 texts 和已经做好的词嵌入创建 vector store。对应的函数分别是\n",
    "- `from_documents`\n",
    "- `from_texts`\n",
    "- `from_embeddings`\n",
    "\n",
    "如果使用这些方法，doc store 和关系是自动创建的。"
   ]
  },
  {
   "cell_type": "code",
   "execution_count": 13,
   "metadata": {},
   "outputs": [
    {
     "name": "stdout",
     "output_type": "stream",
     "text": [
      "{0: '73b9bc80-edfc-4384-9585-bcb87b2555ce', 1: 'a7f86181-b1c5-41d7-9874-a675a5b1808c', 2: '71eb9323-6b1e-4ff7-a723-3fdf008c3618', 3: '9e03d34a-9f30-4595-bf67-d147a69c279e', 4: 'c9718e5e-e40c-49c5-b848-7d9f01d412b5', 5: '37dfe88a-02b6-4f41-8c5d-008155224e45', 6: 'c6e3898c-5e31-4408-87a9-490d8ad8b63a', 7: 'c29f63d6-a518-4609-a314-320977547302', 8: '29826f26-be5d-4dbf-ad36-78d63eb621d4', 9: 'fb6b5518-3ca6-4ee3-9dba-4008d05d6b9b', 10: '0475cdce-bfb6-4485-baf7-160203bdbf8b', 11: '40149006-e293-4ae3-a552-4d65a1bf2f04', 12: '66cfacb3-1574-4caa-8af4-2d9a9528f035', 13: '6d296582-37d1-43ec-9ba9-b6a073381030', 14: 'a2dd7399-0235-49cf-ad3f-fb276f3780fa', 15: '60a6789c-08da-42d6-bd2f-0a09c87f29d1', 16: '461d8399-8cca-4171-a31b-2bf635d31346', 17: '21c77f72-944d-4855-90c8-231eefdac9c6', 18: '6d646ffc-d292-4bdf-8cf5-bcde4d21b95a', 19: '72fdbad4-4c18-435a-bc66-ee3b4350b037', 20: '0b4edf4c-0bfd-41c6-b672-a69ba7c9015a', 21: 'd25afcec-5e3d-401f-89aa-8776e72e9b69', 22: '42f6c6b8-b72f-4ef3-acbf-517a69365da7', 23: 'fba79857-d79a-47a5-8f1d-a169e6428d19', 24: '2339b2ca-f3fd-4d2f-88ef-386bb4f28e59', 25: 'f57a9846-3c10-42b2-b730-1e893403a455', 26: '50d34869-9722-4e75-8e21-398029af7177', 27: '2ec824f6-a601-46e3-bc10-dfc307b252d5', 28: '5241d707-db7b-4fb3-b3f2-751949e0c4af', 29: 'cfaeaa36-b6a4-42ab-b400-e62b334c3c53', 30: '80ae697e-ae05-45fb-a98c-43c967c04f5e', 31: '8799ca6d-1f97-42dd-abc5-15d6200674aa', 32: 'ece16389-3f94-4a22-9506-fdd3fbd62b31', 33: 'bf5ed168-049d-4b1b-bf61-5d8b556963c8', 34: '2ebbcc3d-bfc1-4266-95f9-857ab5abccfc', 35: 'bd21347c-516f-446b-817e-5bfd32e15189', 36: '3e022839-e1ab-4d52-ba1c-8feef4888555', 37: '5a21b7d7-e0df-4798-aaf1-13e05b000721', 38: '84ee8523-505f-49ca-8197-da310df0a423', 39: '3410a942-a8b9-48f4-ade6-84370613184c', 40: '0d6e52ea-fb46-4f39-814c-abd5f4ae1f07', 41: '85b85918-b12e-4605-a739-1bc35f049cbe', 42: '88740e4a-f0f7-4909-92ed-c5b19c8cec75', 43: 'c53a8218-35e1-4e5d-9590-ead639214b74', 44: 'f985cb0c-1c2f-488a-96aa-1459e3a6c76a', 45: 'a0080812-67ee-41f3-8b68-0b798596e195', 46: '7d8854f4-7585-474f-b169-c87b97ad0ea4', 47: '8c56165e-afb5-4b18-b069-028c17f56203', 48: 'a3131c1a-9cbf-4bae-a301-8673060afbde', 49: 'ff6ef995-5284-4109-a2a9-c1896b94b968', 50: '78760d58-56ae-400b-b4f2-c4fe2f89b00b', 51: 'a92189d9-cec1-4287-a8a0-ee053038694f', 52: 'e509cfa5-95c0-4bd6-a1db-c410db4e6671', 53: 'd6c9b3ec-b057-4be4-bd77-003e5cda626c', 54: '00e4f94b-c4b9-40df-a8df-37806c8b492a', 55: '25f51e6d-7970-4d14-b98b-0157f2f6b6fe', 56: 'c413e6a5-b5e8-43b5-a496-6feea82e8b97', 57: '4325a7df-4ce3-43b3-887b-c5e356e49369', 58: '2a818f5f-5c5c-45f4-bb6b-3d5ffca80537', 59: '06b486f2-d24c-462f-b824-0ee4a9bd148d', 60: 'bc5a4d51-4576-4e03-a4b5-2123cda36c0f', 61: '6fd488f3-176b-46d8-ae24-1500ec6993b0', 62: 'b9de8a1d-a787-49eb-b5ed-0ab4b5c90857', 63: 'c58a03ad-c1cb-4c31-b08a-a712c7b859b6', 64: '4e54de1c-38ce-42bb-b104-7f6c04c00345', 65: '0a3146be-e84f-485f-b4c1-201bf31db3ab', 66: 'b092c45b-7e4a-4d60-9837-4eb5d138a9da', 67: 'b5cbf0b1-9864-4d31-aed6-154247fa5009', 68: 'c738322b-e468-4bc6-b550-e7ae1f24a71d', 69: '31281b66-bf5a-4dce-a7d0-af447f6e41fa', 70: '0f6d57c9-4ce9-4c87-85c2-f36b8bb4f644', 71: '04a64a02-c9c8-4346-bb45-e0a8406e45cb', 72: '468c3652-d560-4181-aa66-fef226e7894a', 73: '419942da-66a3-4142-ab41-27afaa105daa', 74: '37c2fd94-bed5-474a-86da-d7d2eb85c221', 75: 'ea533f48-08ee-4b47-80df-db9ab39b258a', 76: '86182151-d82c-4d07-a870-17fc10e75613', 77: 'e99cfbfd-c252-417a-80df-71a2bd514f84', 78: 'e4b711c0-07c0-47b4-a984-5777fdd62f90', 79: 'b1be4d9d-c03c-40c9-b14f-5d8603beea09', 80: '6080d954-5773-4fc5-94b7-d7fdb47ad699', 81: 'bff0491f-89c3-4b2a-b2b3-4561c2141dd8', 82: '9e82392c-d855-42dd-b53e-46778bb0e20f', 83: 'fbebdfc6-da5d-4914-b2ef-c60172d73c69', 84: '1cf3dae6-e030-484d-9452-cc75cc938ea1', 85: '8f9a97f5-083a-44bf-83db-d89a572767a7', 86: 'ec800046-2902-41d6-8452-383b4d3072f1', 87: '6ed0c9c0-1ce1-4767-b192-d83e044801fc', 88: '0dadd94b-3442-48c9-a58c-76d5ecded2e9', 89: '7788be8c-f960-481c-b57b-467ab8593fe8', 90: '5fa1bae2-6033-4aa3-a8b5-b989e34fc45a', 91: '52b227d8-6b73-4e13-a1f8-e03058cf567d', 92: 'da0ef8a5-f5e6-4af9-8612-caf3ad25556d', 93: '8670da07-80a7-4b2b-9564-73a61162c4fd', 94: '8fe946a9-40a7-4737-bf1b-9443d2730456', 95: '72d8487a-0b0f-4dec-9d4f-f122fd6d8ad2', 96: '26c2d77f-ecbf-416e-9791-a9e603860e76', 97: '450ef332-b942-4e34-a1f1-1ac7374511ec', 98: 'aeb5dceb-ff87-4666-9044-af8485e39cd6', 99: '1ec982d2-dc2a-4961-a0e1-37f9d00bd760', 100: 'aa92fcd7-f47a-4819-828f-e7f25ecc4fb9', 101: 'c7c797d7-fda7-4456-9d76-0906971ad5f8', 102: 'd13f893f-6206-4879-90e1-d0f1ab8f1555', 103: '48760d7c-365b-41f3-bfbf-717bc64e2893', 104: '7a4c693a-8eb2-46e5-b717-6cb7b5e2c4e7', 105: 'e78f5fdb-95d4-4c08-87a9-f5d6b12458d8', 106: 'd05d3331-3194-4b3b-8362-cd823283d8a9', 107: '00d7e93c-dead-4604-ae3c-0b511493454e', 108: 'ffe0f2b8-a926-41c6-8956-c109c4c71ede', 109: '663e29b5-5274-460c-ab44-deca20ab8ea3', 110: 'eb0440a0-d9ae-451d-bfc7-aef95b1b53ef', 111: '3ce35b4e-4e6c-420a-80d4-aa035dd3287a', 112: '3ecf47d9-e101-40f6-bdcd-9eea580c0f78', 113: '80efe481-aded-4e99-a1b6-722337a8cb21', 114: '177ae8ec-2f48-44df-94cc-6504899f4eaf', 115: 'fc906c12-5e58-4135-ad6d-2f0cd7d7c90f', 116: 'ae2873a3-af63-4a19-b757-4794136366a6', 117: '6ae33296-28f3-4501-9793-d6089df294a4', 118: '0746a315-bec0-4522-96a0-95417f40e18f', 119: '6aaec252-e223-443c-9127-22d6a8b7f3c3', 120: '0acd8e65-d2ae-4d97-9cf2-ea3c52a935f2', 121: '9323be6b-6215-4749-ba87-ef4be84a038f', 122: '85b9bb4c-ee5f-41c2-a211-e8b6e7b52167', 123: '7727c7f8-25d0-4957-b69f-4043b3996246', 124: '5aadca2f-d918-43a9-9649-dc59df0607c8', 125: 'ae0fb974-862a-46de-b6f4-6686303abe8d', 126: '513c702d-6b15-483e-ba3a-85bf5a8f4f93', 127: '2f72f8de-73a7-45b1-8577-94864b53b932', 128: '484b0414-873a-4d6c-b6c8-9750ea1334ec', 129: 'c202ba25-842a-4c92-bf54-4fece10ab466', 130: '71bd1739-0e6d-4d16-8dff-ef0b7e9e97a1', 131: '17b2cae8-c17b-4eb0-ba45-648e1983c1da', 132: 'd4469bb9-444f-4f93-bf85-30b498c2f895', 133: '62f29dd0-4210-4185-9b9e-245d21012c4f', 134: 'ac44730d-d74c-4b24-b36b-3fb38d5c2e86', 135: 'ba44493b-f061-4a4b-9782-1e80dab9f2e1', 136: '2be69341-af4a-405c-8b50-b4462bd5c2c9', 137: 'd07ae7b8-ab36-477e-b546-b7323fc98aae', 138: 'eaecdcf2-5ecf-4196-9534-33fd9eb4a522', 139: 'd2052767-c74b-47e9-9341-075840b00d5b', 140: 'afbc10ae-3799-4efa-bde5-e923e2180fb7', 141: '7508443a-a112-47bd-89c9-aed4e6309cb1', 142: 'e347c5a1-a20a-43c3-a03d-bb4b76e99e6c', 143: '5969484d-a51b-4f11-bc53-fa47aa74829f', 144: '0ed561a3-ada3-40de-915a-0156f5e2b590', 145: '3051841d-0819-42b0-a2d3-9c15eeff0013', 146: '4c343d06-b981-483b-9eca-3b5298668369', 147: 'c0ee9914-d760-4706-a1b4-49c4bbc3cf29', 148: 'ec351b48-ff2d-44bc-b211-2f36c3e94822', 149: '23cfbb59-c1e5-4d5d-9ffb-c99d737d147a', 150: 'c560efc6-6ece-4954-9a77-02d0d9222994', 151: 'd27b7d29-b91b-4e26-a465-f08e7391bdd1', 152: '336a51cc-5571-4375-9e33-3681b02f9f78', 153: '76a1bda7-81e6-4f56-b430-d888ec5add88', 154: '028296ea-98b4-439e-8ddf-7e2d21cc593e', 155: 'b67e0f74-4bbf-4019-9323-9544d20185bf', 156: '156c7973-939d-4272-bcff-6cfeba6538e5', 157: '5413f765-eb6b-4cd1-8e75-5a4a47484675', 158: '1339b69c-52d2-4454-a672-cf2ff5f57274', 159: '8daf31f4-c5c8-4acf-afe4-5a22dc793183', 160: '350ddc3e-fc59-44a1-87e3-6601bf42b88d', 161: 'b2b43219-765c-4bd5-be98-55846a2c46b1', 162: 'cfb25e08-17df-49f8-86d0-daa83edafca0', 163: '7877adff-77ca-478a-a9ec-2ab54cb7f3b8', 164: '188f317d-134c-4017-8586-4986d68cad3f', 165: '57ad07aa-0f33-4f5a-bd4f-e00143464534', 166: '374ab62f-b65d-479f-984b-1e4329a7c297', 167: 'fa00e800-84e6-4169-bf1c-7fcc45ce4f81', 168: '271abcfb-79b1-4e1d-b368-9e6bd2a942f8', 169: 'af750646-23b6-4137-a59d-a4033f944870', 170: 'd800bd53-60df-4ca2-a13c-7fd38b26caf0', 171: '62d0502b-f7f9-47ef-aed2-c1948e42bd4b', 172: 'de08760b-c2e3-4229-9602-e64a21bda27e', 173: '041b182b-cd38-4f65-a6f5-a857a83f385b', 174: 'b8c01315-8de6-45cb-b84e-46e26905b49d', 175: '669016cf-0c9d-448d-b090-e095d77ca95b', 176: 'b1472f00-8356-467d-bbec-9069dc77f4b2', 177: '5c056909-c8b7-43ff-9d00-92a083a2d755', 178: 'ff664904-bd6b-40a9-9acd-a29a37655c68', 179: '93db1efe-1dac-461a-b417-8768cffffd15', 180: 'b0070062-4f07-4d08-b0ad-e50dec5083d7', 181: 'fa5ee7b8-6641-4745-9507-e8f8c1188f14', 182: '1bb58315-d337-48dd-ae0a-31f228427a80', 183: 'd620dc66-13ff-48a7-8c00-388c0895634e', 184: '8d0b6d5f-fa99-4102-b251-afde4e79f530', 185: 'dc36127a-4818-456d-baf3-5b949c3a43af', 186: '5f78a2c4-a3b0-4aa3-bcd6-c231185ab3d8', 187: '3a3d8651-0b45-4495-8b2e-2b86a9125ce3', 188: '05375c1b-e141-413f-b7bf-6a613ecbdfb2', 189: 'f65fa4cc-9271-438a-ac78-1ae96a3bfd98', 190: '8c92d0c7-8227-4f42-8f99-435bd9e03b0b', 191: '72cc37f3-e48c-45bc-8de0-3f4ae02561a3', 192: '8e49fb51-0cd9-4c6d-8218-3af065dff2d7', 193: 'e8007d4a-c268-48cc-9d10-c4b149738363', 194: '81fd4dba-3064-4d6b-ab01-f25a7aecce58', 195: 'c9d7e353-1a23-49ef-b336-b4797f493233', 196: '93e13209-7694-4127-ada7-fbf98a45f74f', 197: 'a590299b-d7cc-4db0-ba82-3e766d894012', 198: 'a7523f56-c70c-4c4a-8f43-255fb32504e0', 199: '8192bd5f-4ae7-4c0d-9830-b385ad1f5d7f', 200: '738ce5fa-0741-4d0a-8712-e335e890bd41', 201: '925461d6-d980-4ca2-b90c-25467592bb77', 202: 'd4ccfe33-5973-462d-bc90-df5e5664e529', 203: '86dbb23f-a8d4-4f54-a37d-effd26aeaaa2', 204: 'cc1797a1-50bc-4ec3-a61d-4be4774b7d5b', 205: '9c42ddc6-209b-4958-afb1-1588f2769e5f', 206: '85a198fe-f83a-47fd-b98b-dc7c3f8c7a84', 207: 'f0ba1a22-d7b1-49ba-bd02-96d595028c2c', 208: '41e94de4-29ce-4143-8087-0af3be7aca16', 209: '2ed3df36-13c1-468d-a60f-34b6e1df24ff', 210: '437abde7-bf66-4c03-afe1-6e39777b4480', 211: '467ecc42-dd81-45b1-91fb-5c23790ead61', 212: '4f482c9f-1a5a-46a0-89e5-2e9390940641', 213: '85669c2a-41be-4d3b-9354-16f7b4d05e53', 214: '37a29428-b1b1-4b53-aedc-a552d57fb984', 215: 'b0a3a452-1562-41c4-ac5c-4136098084b1', 216: 'abbbfcf4-9f5e-42e2-8c0d-d8408348e004'}\n",
      "<langchain_community.docstore.in_memory.InMemoryDocstore object at 0x30e03fe10>\n"
     ]
    }
   ],
   "source": [
    "vector_store = FAISS.from_documents(docs, embedding)\n",
    "print(vector_store.index_to_docstore_id)\n",
    "print(vector_store.docstore)"
   ]
  },
  {
   "cell_type": "markdown",
   "metadata": {},
   "source": [
    "当然，肯定有需要补充数据的时候。一共有 3 种办法添加数据：直接使用带有 metadata 的 documents，或使用更简单的 texts 和已经做好的词嵌入。对应的函数分别是\n",
    "- `from_documents`\n",
    "- `from_texts`\n",
    "- `from_embeddings`\n",
    "\n",
    "添加数据时不需要考虑 doc store 和关系，程序会自动更新。以 `add_documents` 为例："
   ]
  },
  {
   "cell_type": "code",
   "execution_count": null,
   "metadata": {},
   "outputs": [],
   "source": [
    "vector_store.add_documents(docs)"
   ]
  },
  {
   "cell_type": "markdown",
   "metadata": {},
   "source": [
    "有加就有删，删除是按照 doc store 的 `id` 进行的。"
   ]
  },
  {
   "cell_type": "code",
   "execution_count": 19,
   "metadata": {},
   "outputs": [
    {
     "data": {
      "text/plain": [
       "True"
      ]
     },
     "execution_count": 19,
     "metadata": {},
     "output_type": "execute_result"
    }
   ],
   "source": [
    "vector_store.delete(['73b9bc80-edfc-4384-9585-bcb87b2555ce'])"
   ]
  },
  {
   "cell_type": "markdown",
   "metadata": {},
   "source": [
    "检索有两种方法，`vector_store.similarity_search` 的主要参数有：\n",
    "- `query`：检索的文本\n",
    "- `k`：检索的个数\n",
    "- `filter`：过滤条件，例如只检索某个主题下的文本，或者只检索某个时间范围的文本等\n",
    "- `fetch_k`：在执行 `filter` 之前要检索的个数"
   ]
  },
  {
   "cell_type": "code",
   "execution_count": 20,
   "metadata": {},
   "outputs": [
    {
     "name": "stdout",
     "output_type": "stream",
     "text": [
      "[Document(metadata={'source': '/Users/wenjiazhai/Documents/GitHub/RAG_zero_to_hero/data/paul_graham/paul_graham_essay.txt'}, page_content=\"book. But there's nothing like writing a book about something to help you learn it. The book, On Lisp, wasn't published till 1993, but I wrote much of it in grad school.\"), Document(metadata={'source': '/Users/wenjiazhai/Documents/GitHub/RAG_zero_to_hero/data/paul_graham/paul_graham_essay.txt'}, page_content=\"Over the next several years I wrote lots of essays about all kinds of different topics. O'Reilly reprinted a collection of them as a book, called Hackers & Painters after one of the essays in it. I also worked on spam filters, and did some more painting. I used to have dinners for a group of friends every thursday night, which taught me how to cook for groups. And I bought another building in Cambridge, a former candy factory (and later, twas said, porn studio), to use as an office.\"), Document(metadata={'source': '/Users/wenjiazhai/Documents/GitHub/RAG_zero_to_hero/data/paul_graham/paul_graham_essay.txt'}, page_content=\"I've worked on several different things, but to the extent there was a turning point where I figured out what to work on, it was when I started publishing essays online. From then on I knew that whatever else I did, I'd always write essays too.\")]\n"
     ]
    }
   ],
   "source": [
    "res = vector_store.similarity_search('What did the author do growing up?', k=3)\n",
    "print(res)"
   ]
  },
  {
   "cell_type": "markdown",
   "metadata": {},
   "source": [
    "而 `vector_store.as_retriever` 接收关键字参数，关键字可以是 `search_type`（可以是 `similarity`、`mmr` 或 `similarity_score_threshold`）、 `k`、 `score_threshold`、 `fetch_k` 或 `filter`，生成一个 query engine，再检索 query。"
   ]
  },
  {
   "cell_type": "code",
   "execution_count": 21,
   "metadata": {},
   "outputs": [
    {
     "name": "stdout",
     "output_type": "stream",
     "text": [
      "[Document(metadata={'source': '/Users/wenjiazhai/Documents/GitHub/RAG_zero_to_hero/data/paul_graham/paul_graham_essay.txt'}, page_content=\"book. But there's nothing like writing a book about something to help you learn it. The book, On Lisp, wasn't published till 1993, but I wrote much of it in grad school.\"), Document(metadata={'source': '/Users/wenjiazhai/Documents/GitHub/RAG_zero_to_hero/data/paul_graham/paul_graham_essay.txt'}, page_content=\"Over the next several years I wrote lots of essays about all kinds of different topics. O'Reilly reprinted a collection of them as a book, called Hackers & Painters after one of the essays in it. I also worked on spam filters, and did some more painting. I used to have dinners for a group of friends every thursday night, which taught me how to cook for groups. And I bought another building in Cambridge, a former candy factory (and later, twas said, porn studio), to use as an office.\"), Document(metadata={'source': '/Users/wenjiazhai/Documents/GitHub/RAG_zero_to_hero/data/paul_graham/paul_graham_essay.txt'}, page_content=\"I've worked on several different things, but to the extent there was a turning point where I figured out what to work on, it was when I started publishing essays online. From then on I knew that whatever else I did, I'd always write essays too.\")]\n"
     ]
    }
   ],
   "source": [
    "engine = vector_store.as_retriever(search_kwargs={\"k\": 3})\n",
    "res = engine.invoke('What did the author do growing up?')\n",
    "print(res)"
   ]
  },
  {
   "cell_type": "markdown",
   "metadata": {},
   "source": [
    "可以看到，这两种方法的结果是完全一致的。这一步只是找到相关文档，还差最后一步：生成。"
   ]
  }
 ],
 "metadata": {
  "kernelspec": {
   "display_name": "langchain",
   "language": "python",
   "name": "python3"
  },
  "language_info": {
   "codemirror_mode": {
    "name": "ipython",
    "version": 3
   },
   "file_extension": ".py",
   "mimetype": "text/x-python",
   "name": "python",
   "nbconvert_exporter": "python",
   "pygments_lexer": "ipython3",
   "version": "3.11.10"
  }
 },
 "nbformat": 4,
 "nbformat_minor": 2
}
