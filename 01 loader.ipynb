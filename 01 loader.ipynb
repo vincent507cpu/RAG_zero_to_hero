{
 "cells": [
  {
   "cell_type": "markdown",
   "metadata": {},
   "source": [
    "# 1.1 txt 文件加载器 `TextLoader`\n",
    "纯文本文件没有字体格式，是最简单的文本文档类型。在开篇中提到，LangChain 拥有若干种文档加载器，用于加载各种格式的文本文档。他们复用一部分基本参数和功能（均继承自 `langchain_community.document_loaders.base.BaseLoader`），所以纯文本文档加载器 `TextLoader` 是非常好的起始。\n",
    "## 主要参数\n",
    "- `file_path`: 文件路径\n",
    "- `encoding`: 文件编码，默认为 utf-8\n",
    "- `autodetect_encoding`: 是否需要自动检测文件编码，默认为 False"
   ]
  },
  {
   "cell_type": "markdown",
   "metadata": {},
   "source": [
    "## 例子"
   ]
  },
  {
   "cell_type": "code",
   "execution_count": 2,
   "metadata": {},
   "outputs": [
    {
     "name": "stdout",
     "output_type": "stream",
     "text": [
      "dict_keys(['id', 'metadata', 'page_content', 'type'])\n",
      "75014\n"
     ]
    }
   ],
   "source": [
    "import os\n",
    "from pathlib import Path\n",
    "from langchain.document_loaders import TextLoader\n",
    "\n",
    "root = os.getcwd()\n",
    "loader = TextLoader(os.path.join(root, 'data/paul_graham/paul_graham_essay.txt'))\n",
    "data = loader.load()\n",
    "\n",
    "print(data[0].dict().keys())\n",
    "print(len(data[0].page_content))"
   ]
  },
  {
   "cell_type": "markdown",
   "metadata": {},
   "source": [
    "## 方法：\n",
    "1. `load()` 和 `aload()`：载入文件，返回一个 `Document` 对象。`aload()` 是 `load()` 的异步版本。\n",
    "2. `lazy_load()` 和 `alazy_load()`：惰性读取，即等到对象被调用的时候再进行读取。`alazy_load()` 是 `lazy_load()` 的异步版本。\n",
    "\n",
    "上述方法返回的 `Document` 对象的结构是：\n",
    "```python\n",
    "Document(page_content=text, metadata={\"source\": str(self.file_path)})\n",
    "```"
   ]
  },
  {
   "cell_type": "markdown",
   "metadata": {},
   "source": [
    "# 1.2 CSV 文件加载器 `CSVLoader`"
   ]
  },
  {
   "cell_type": "code",
   "execution_count": 3,
   "metadata": {},
   "outputs": [
    {
     "name": "stdout",
     "output_type": "stream",
     "text": [
      "   Temperature   Humidity  Wind_Speed  Cloud_Cover     Pressure     Rain\n",
      "0    23.720338  89.592641    7.335604    50.501694  1032.378759     rain\n",
      "1    27.879734  46.489704    5.952484     4.990053   992.614190  no rain\n",
      "2    25.069084  83.072843    1.371992    14.855784  1007.231620  no rain\n",
      "3    23.622080  74.367758    7.050551    67.255282   982.632013     rain\n",
      "4    20.591370  96.858822    4.643921    47.676444   980.825142  no rain\n"
     ]
    }
   ],
   "source": [
    "import pandas as pd\n",
    "df = pd.read_csv(os.path.join(root, 'data/weather_forecast_data.csv')) # credit to https://www.kaggle.com/datasets/zeeshier/weather-forecast-dataset\n",
    "print(df.head())"
   ]
  },
  {
   "cell_type": "markdown",
   "metadata": {},
   "source": [
    "`CSVLoader` 读取文档后，每一行会生成一个 `Document` 对象，每一个 `Document` 对象包含：\n",
    "- `page_content`：每一行都被转化为 {列 : 列值} 的列表\n",
    "- `metadata`：元数据，包括文件路径和行数\n",
    "## 主要参数\n",
    "- `file_path`：读取的文件路径\n",
    "- `source_column`：读取的列\n",
    "- `metadata_columns`：读取的列作为元数据\n",
    "- `csv_args`：一个传给 `csv.DictReader` 的字典\n",
    "- `encoding`：文件编码\n",
    "- `autodetect_encoding`：是否自动检测文件编码\n",
    "## 例子"
   ]
  },
  {
   "cell_type": "code",
   "execution_count": 4,
   "metadata": {},
   "outputs": [
    {
     "name": "stdout",
     "output_type": "stream",
     "text": [
      "page_content='Temperature: 23.720337598183118\n",
      "Humidity: 89.59264065174611\n",
      "Wind_Speed: 7.335604391040214\n",
      "Cloud_Cover: 50.501693832913155\n",
      "Pressure: 1032.378758690279\n",
      "Rain: rain' metadata={'source': '/Users/wenjiazhai/Documents/GitHub/RAG_zero_to_hero/data/weather_forecast_data.csv', 'row': 0}\n"
     ]
    }
   ],
   "source": [
    "from langchain.document_loaders import CSVLoader\n",
    "\n",
    "docs = CSVLoader(os.path.join(root, 'data/weather_forecast_data.csv')).load()\n",
    "print(docs[0])"
   ]
  },
  {
   "cell_type": "markdown",
   "metadata": {},
   "source": [
    "## 方法：\n",
    "1. `load()` 和 `aload()`：载入文件，返回一个 `Document` 对象。`aload()` 是 `load()` 的异步版本。\n",
    "2. `lazy_load()` 和 `alazy_load()`：惰性读取，即等到对象被调用的时候再进行读取。`alazy_load()` 是 `lazy_load()` 的异步版本。\n",
    "\n",
    "上述方法返回的 `Document` 对象的结构是：\n",
    "```python\n",
    "Document(page_content=text, metadata={\"source\": str(self.file_path)， 'row': row_num})\n",
    "```"
   ]
  },
  {
   "cell_type": "markdown",
   "metadata": {},
   "source": [
    "# 1.3 JSON 文件加载器 `JSONLoader`\n",
    "## 主要参数\n",
    "- `file_path`: 文件路径\n",
    "- `jq_schema`: 用于从 JSON 中提取数据或文本的 jq 模式\n",
    "- `content_key`: 从 JSON 文件中提取的文本数据的键值\n",
    "- `text_content`：布尔标志，指示内容是否为字符串格式，默认为 `True`\n",
    "- `json_lines`：布尔标志，指示输入是否为 JSON Lines 格式，默认为 `False`\n",
    "## 例子"
   ]
  },
  {
   "cell_type": "code",
   "execution_count": 5,
   "metadata": {},
   "outputs": [
    {
     "name": "stdout",
     "output_type": "stream",
     "text": [
      "Note: you may need to restart the kernel to use updated packages.\n"
     ]
    }
   ],
   "source": [
    "pip install jq -Uq"
   ]
  },
  {
   "cell_type": "code",
   "execution_count": 6,
   "metadata": {},
   "outputs": [
    {
     "name": "stdout",
     "output_type": "stream",
     "text": [
      "page_content='{\"conversations\": [[\"Good morning, how are you?\", \"I am doing well, how about you?\", \"I'm also good.\", \"That's good to hear.\", \"Yes it is.\"], [\"Hello\", \"Hi\", \"How are you doing?\", \"I am doing well.\", \"That is good to hear\", \"Yes it is.\", \"Can I help you with anything?\", \"Yes, I have a question.\", \"What is your question?\", \"Could I borrow a cup of sugar?\", \"I'm sorry, but I don't have any.\", \"Thank you anyway\", \"No problem\"], [\"How are you doing?\", \"I am doing well, how about you?\", \"I am also good.\", \"That's good.\"], [\"Have you heard the news?\", \"What good news?\"], [\"What is your favorite book?\", \"I can't read.\", \"So what's your favorite color?\", \"Blue\"], [\"Who are you?\", \"Who? Who is but a form following the function of what\", \"What are you then?\", \"A man in a mask.\", \"I can see that.\", \"It's not your powers of observation I doubt, but merely the paradoxical nature of asking a masked man who is. But tell me, do you like music?\", \"I like seeing movies.\", \"What kind of movies do you like?\", \"Alice in Wonderland\", \"I wish I was The Mad Hatter.\", \"You're entirely bonkers. But I'll tell you a secret. All the best people are.\"], [\"I am working on a project\", \"What are you working on?\", \"I am baking a cake.\"], [\"The cake is a lie.\", \"No it is not. The cake is delicious.\", \"What else is delicious?\", \"Nothing\", \"Or something\", \"Tell me about your self.\", \"What do you want to know?\", \"Are you a robot?\", \"Yes I am.\", \"What is it like?\", \"What is it that you want to know?\", \"How do you work?\", \"Its complicated.\", \"Complex is better than complicated.\"], [\"Complex is better than complicated.\", \"Simple is better than complex.\", \"In the face of ambiguity, refuse the temptation to guess.\", \"It seems your familiar with the Zen of Python\", \"I am.\", \"Do you know all of it?\", \"Beautiful is better than ugly.\", \"Explicit is better than implicit.\", \"Simple is better than complex.\", \"Complex is better than complicated.\", \"Flat is better than nested.\", \"Sparse is better than dense.\", \"Readability counts.\", \"Special cases aren't special enough to break the rules.\", \"Although practicality beats purity.\", \"Errors should never pass silently.\", \"Unless explicitly silenced.\", \"In the face of ambiguity, refuse the temptation to guess.\", \"There should be one-- and preferably only one --obvious way to do it.\", \"Although that way may not be obvious at first unless you're Dutch.\", \"Now is better than never.\", \"Although never is often better than right now.\", \"If the implementation is hard to explain, it's a bad idea.\", \"If the implementation is easy to explain, it may be a good idea.\", \"Namespaces are one honking great idea. Let's do more of those!\", \"I agree.\"], [\"Are you a programmer?\", \"I am a programmer\", \"What languages do you like to use?\", \"I use Python, Java and C++ quite often.\", \"I use Python quite a bit myself.\", \"I'm not incredibly fond of Java.\", \"What annoys you?\", \"It has many inconsistencies.\"], [\"What does YOLO mean?\", \"It means you only live once. Where did you hear that?\", \"I heard somebody say it.\"], [\"Did I ever live?\", \"It depends how you define life\", \"Life is the condition that distinguishes organisms from inorganic matter, including the capacity for growth, reproduction, functional activity, and continual change preceding death.\", \"Is that a definition or an opinion?\"], [\"Can I ask you a question?\", \"Go ahead and ask.\"]]}' metadata={'source': '/Users/wenjiazhai/Documents/GitHub/RAG_zero_to_hero/data/conversation.json', 'seq_num': 1}\n"
     ]
    }
   ],
   "source": [
    "from langchain.document_loaders import JSONLoader\n",
    "\n",
    "docs = JSONLoader(os.path.join(root, 'data/conversation.json'), jq_schema='.', text_content=False).load() # https://www.kaggle.com/datasets/vaibhavgeek/conversation-json\n",
    "print(docs[0])"
   ]
  },
  {
   "cell_type": "markdown",
   "metadata": {},
   "source": [
    "# 1.4 PDF 文档加载器\n",
    "由于 PDF 文件非常常用，有很多解决方案，这里仅介绍 `PyPDF`。其它加载器见 https://python.langchain.com/docs/integrations/document_loaders/。\n",
    "## 主要参数\n",
    "- `file_path`：文件路径\n",
    "- `password`：打卡该 PDF 文件的密码，如果需要密码的话\n",
    "- `extract_images`：是否提取图片，默认为 False\n",
    "## 例子"
   ]
  },
  {
   "cell_type": "code",
   "execution_count": 7,
   "metadata": {},
   "outputs": [
    {
     "name": "stdout",
     "output_type": "stream",
     "text": [
      "Looking in indexes: https://mirrors.cernet.edu.cn/pypi/web/simple\n",
      "Requirement already satisfied: pypdf in /Users/wenjiazhai/miniconda3/envs/langchain/lib/python3.11/site-packages (5.1.0)\n"
     ]
    }
   ],
   "source": [
    "!pip install pypdf"
   ]
  },
  {
   "cell_type": "code",
   "execution_count": 8,
   "metadata": {},
   "outputs": [
    {
     "name": "stdout",
     "output_type": "stream",
     "text": [
      "page_content='QWEN 2 TECHNICAL REPORT\n",
      "An Yang, Baosong Yang, Binyuan Hui, Bo Zheng, Bowen Yu, Chang Zhou, Chengpeng Li,\n",
      "Chengyuan Li, Dayiheng Liu, Fei Huang, Guanting Dong, Haoran Wei, Huan Lin, Jialong Tang,\n",
      "Jialin Wang, Jian Yang, Jianhong Tu, Jianwei Zhang, Jianxin Ma, Jianxin Yang, Jin Xu, Jingren\n",
      "Zhou, Jinze Bai, Jinzheng He, Junyang Lin, Kai Dang, Keming Lu, Keqin Chen, Kexin Yang, Mei\n",
      "Li, Mingfeng Xue, Na Ni, Pei Zhang, Peng Wang, Ru Peng, Rui Men, Ruize Gao, Runji Lin, Shijie\n",
      "Wang, Shuai Bai, Sinan Tan, Tianhang Zhu, Tianhao Li, Tianyu Liu, Wenbin Ge, Xiaodong Deng,\n",
      "Xiaohuan Zhou, Xingzhang Ren, Xinyu Zhang, Xipin Wei, Xuancheng Ren, Xuejing Liu, Yang Fan,\n",
      "Yang Yao, Yichang Zhang, Yu Wan, Yunfei Chu, Yuqiong Liu, Zeyu Cui, Zhenru Zhang, Zhifang\n",
      "Guo, and Zhihao Fan\n",
      "Qwen Team, Alibaba Group∗\n",
      "ABSTRACT\n",
      "This report introduces the Qwen2 series, the latest addition to our large lan-\n",
      "guage models and large multimodal models. We release a comprehensive suite of\n",
      "foundational and instruction-tuned language models, encompassing a parameter\n",
      "range from 0.5 to 72 billion, featuring dense models and a Mixture-of-Experts\n",
      "model. Qwen2 surpasses most prior open-weight models, including its predecessor\n",
      "Qwen1.5, and exhibits competitive performance relative to proprietary models\n",
      "across diverse benchmarks on language understanding, generation, multilingual\n",
      "proficiency, coding, mathematics, and reasoning.\n",
      "The flagship model, Qwen2-72B, showcases remarkable performance: 84.2 on\n",
      "MMLU, 37.9 on GPQA, 64.6 on HumanEval, 89.5 on GSM8K, and 82.4 on BBH as\n",
      "a base language model. The instruction-tuned variant, Qwen2-72B-Instruct, attains\n",
      "9.1 on MT-Bench, 48.1 on Arena-Hard, and 35.7 on LiveCodeBench. Moreover,\n",
      "Qwen2 demonstrates robust multilingual capabilities, proficient in approximately\n",
      "30 languages, spanning English, Chinese, Spanish, French, German, Arabic, Rus-\n",
      "sian, Korean, Japanese, Thai, Vietnamese, and more, underscoring its versatility\n",
      "and global reach.\n",
      "To foster community innovation and accessibility, we have made the Qwen2 model\n",
      "weights openly available on Hugging Face1 and ModelScope2, and the supplemen-\n",
      "tary materials including example code on GitHub3. These platforms also include\n",
      "resources for quantization, fine-tuning, and deployment, facilitating a wide range\n",
      "of applications and research endeavors.\n",
      "∗Authors are ordered alphabetically by the first name.\n",
      "1https://huggingface.co/Qwen\n",
      "2https://modelscope.cn/organization/qwen\n",
      "3https://github.com/QwenLM/Qwen2\n",
      "1\n",
      "arXiv:2407.10671v3  [cs.CL]  18 Jul 2024' metadata={'source': '/Users/wenjiazhai/Documents/GitHub/RAG_zero_to_hero/data/Qwen2.pdf', 'page': 0}\n"
     ]
    }
   ],
   "source": [
    "from langchain.document_loaders import PyPDFLoader\n",
    "\n",
    "docs = PyPDFLoader(os.path.join(root, 'data/Qwen2.pdf')).load()\n",
    "print(docs[0])"
   ]
  },
  {
   "cell_type": "markdown",
   "metadata": {},
   "source": [
    "除了上述文档加载器，LangChain 还提供了几十种加载其它文档的加载器，有需要可以到 https://python.langchain.com/docs/integrations/document_loaders/ 查看。"
   ]
  },
  {
   "cell_type": "markdown",
   "metadata": {},
   "source": []
  }
 ],
 "metadata": {
  "kernelspec": {
   "display_name": "langchain",
   "language": "python",
   "name": "python3"
  },
  "language_info": {
   "codemirror_mode": {
    "name": "ipython",
    "version": 3
   },
   "file_extension": ".py",
   "mimetype": "text/x-python",
   "name": "python",
   "nbconvert_exporter": "python",
   "pygments_lexer": "ipython3",
   "version": "3.11.10"
  }
 },
 "nbformat": 4,
 "nbformat_minor": 2
}
