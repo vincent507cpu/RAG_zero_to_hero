{
 "cells": [
  {
   "cell_type": "markdown",
   "metadata": {},
   "source": [
    "载入并消化文档后，下一步是将信息向量化，以便下一步检索。通常来说，调用向量化模型的工具整合在 `langchain_community` 包里，当然也有一些合作方单独开发了库整合了自己的全部工具。本文介绍两个主流的 embedding 工具 `HuggingFaceEmbeddings` 和 `OpenAIEmbeddings`，其它工具可参考 https://python.langchain.com/api_reference/community/index.html。"
   ]
  },
  {
   "cell_type": "code",
   "execution_count": 4,
   "metadata": {},
   "outputs": [],
   "source": [
    "import os\n",
    "from langchain.document_loaders import TextLoader\n",
    "\n",
    "root = os.getcwd()\n",
    "loader = TextLoader(os.path.join(root, 'data/paul_graham/paul_graham_essay.txt'))\n",
    "data = loader.load()"
   ]
  },
  {
   "cell_type": "markdown",
   "metadata": {},
   "source": [
    "# `HuggingFaceBgeEmbeddings`\n",
    "在使用这个类之前需要安装 `langchain-huggingface` 包。这个类其实是 `sentence_transformers.SentenceTransformer` 的封装。主要参数有：\n",
    "- `cache_folder`：模型的缓存路径，也可以设置 `SENTENCE_TRANSFORMERS_HOME` 环境变量\n",
    "- `model_name`：模型名称，比如 `BAAI/bge-small-zh-v1.5`\n",
    "- `multi_process`：是否使用多个 GPU\n",
    "- `show_progress`：是否显示进度条\n",
    "- `encode_kwargs`：传递给这个类的 encoding 参数，继承自 `sentence_transformers.SentenceTransformer`。\n",
    "- `model_kwargs`：传递给这个类的参数，继承自 `sentence_transformers.SentenceTransformer`，比较重要的参数有 `device` 和 `trust_remote_code`\n",
    "- `query_encode_kwargs`：同样是传递给这个类的参数，继承自 `sentence_transformers.SentenceTransformer`"
   ]
  },
  {
   "cell_type": "code",
   "execution_count": 2,
   "metadata": {},
   "outputs": [
    {
     "name": "stderr",
     "output_type": "stream",
     "text": [
      "/Users/wenjiazhai/miniconda3/envs/langchain/lib/python3.11/site-packages/sentence_transformers/cross_encoder/CrossEncoder.py:13: TqdmWarning: IProgress not found. Please update jupyter and ipywidgets. See https://ipywidgets.readthedocs.io/en/stable/user_install.html\n",
      "  from tqdm.autonotebook import tqdm, trange\n"
     ]
    }
   ],
   "source": [
    "from langchain_huggingface import HuggingFaceEmbeddings\n",
    "\n",
    "embedding = HuggingFaceEmbeddings(model_name='BAAI/bge-small-en-v1.5')"
   ]
  },
  {
   "cell_type": "markdown",
   "metadata": {},
   "source": [
    "初始化后可用的方法有：\n",
    "- `embed_documents`：接受一个字符串列表并向量化\n",
    "- `aembed_documents`：上一个方法的异步版本\n",
    "- `embed_query`：接受一个字符串并向量化\n",
    "- `aembed_query`：上一个方法的异步版本"
   ]
  },
  {
   "cell_type": "code",
   "execution_count": 6,
   "metadata": {},
   "outputs": [
    {
     "name": "stdout",
     "output_type": "stream",
     "text": [
      "dimension for embedded docs: 384\n",
      "dimension for embedded query: 384\n"
     ]
    }
   ],
   "source": [
    "embed_content = embedding.embed_documents([d.page_content for d in data])\n",
    "print('dimension for embedded docs:', len(embed_content[0]))\n",
    "\n",
    "embed_query = embedding.embed_query(\"What did the author do growing up?\")\n",
    "print('dimension for embedded query:', len(embed_query))"
   ]
  },
  {
   "cell_type": "markdown",
   "metadata": {},
   "source": [
    "`embed_documents` 和 `embed_query` 的区别在于，前者接受一个字符串列表，后者接受一个字符串。如果无法连接 HuggingFace，可以使用国内的 `langchain_community.embeddings.modelscope_hub.ModelScopeEmbeddings`，参数有 `model_id` 和 `model_revision`，不再赘述。"
   ]
  },
  {
   "cell_type": "markdown",
   "metadata": {},
   "source": [
    "# `OpenAIEmbeddings`\n",
    "这个类保存在 `langchain-openai` 包中，使用需要安装 `langchain-openai` 和 `openai`。这个向量化工具需要 OpenAI 的 key 来运行。提供 `OPENAI_API_KEY` 有若干方法：\n",
    "1. 通过环境变量：\n",
    "```python\n",
    "import os\n",
    "os.environ[\"OPENAI_API_KEY\"] = \"sk-...\"\n",
    "```\n",
    "2. 通过参数：\n",
    "```python\n",
    "from langchain_openai import OpenAIEmbeddings\n",
    "embedding = OpenAIEmbeddings(openai_api_key=\"sk-...\")\n",
    "```\n",
    "3. 通过 `.env` 文件：\n",
    "```python\n",
    "# pip install python-dotenv\n",
    "from dotenv import load_dotenv  # 用于加载环境变量\n",
    "load_dotenv()  # 加载 .env 文件中的环境变量\n",
    "```\n",
    "4. 运行时输入：\n",
    "```python\n",
    "import openai\n",
    "\n",
    "openai.api_key = input(\"请输入您的 OpenAI API 密钥: \") # 提示用户输入 OpenAI API 密钥\n",
    "```\n",
    "目前 OpenAI 支持的模型有 `text-embedding-ada-002`， `text-embedding-3-small` 和 `text-embedding-3-large`。`OpenAIEmbeddings` 的主要参数有\n",
    "- `model`：模型名称\n",
    "- `api_key`：key 值"
   ]
  },
  {
   "cell_type": "code",
   "execution_count": 2,
   "metadata": {},
   "outputs": [
    {
     "name": "stdout",
     "output_type": "stream",
     "text": [
      "1536\n"
     ]
    }
   ],
   "source": [
    "from langchain_openai import OpenAIEmbeddings\n",
    "embedding = OpenAIEmbeddings(model='text-embedding-3-small',\n",
    "                             openai_api_key=\"sk-...\")\n",
    "\n",
    "embed = embedding.embed_query(\"Hello world\")\n",
    "print(len(embed))"
   ]
  },
  {
   "cell_type": "code",
   "execution_count": null,
   "metadata": {},
   "outputs": [],
   "source": []
  }
 ],
 "metadata": {
  "kernelspec": {
   "display_name": "langchain",
   "language": "python",
   "name": "python3"
  },
  "language_info": {
   "codemirror_mode": {
    "name": "ipython",
    "version": 3
   },
   "file_extension": ".py",
   "mimetype": "text/x-python",
   "name": "python",
   "nbconvert_exporter": "python",
   "pygments_lexer": "ipython3",
   "version": "3.11.10"
  }
 },
 "nbformat": 4,
 "nbformat_minor": 2
}
