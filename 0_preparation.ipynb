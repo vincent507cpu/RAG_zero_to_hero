{
 "cells": [
  {
   "cell_type": "markdown",
   "metadata": {},
   "source": [
    "在开始我们先进行环境的搭建和包的安装。本实践的重点在于 RAG 的原理，不会执着于具体框架，LangChain 和 LlamaIndex 都会涉及。\n",
    "\n",
    "向量数据库选择两个，一个是经典的 Faiss，一个是新生代的 Milvus Lite。其它组件在需要时再安装。安装版本为本节完成当日的最新版。程序全部在本地运行，机器为一台 MacBook（内存 96GB）和一台 8GB 内存的树莓派 4B。\n",
    "\n",
    "# 1. 新建 conda 环境\n",
    "```\n",
    "conda create -n rag python=3.11 jupyterlab ipykernel -y\n",
    "activate rag # 激活环境\n",
    "```\n",
    "# 2. 安装 LangChain 和 LlamaIndex 包\n",
    "```\n",
    "pip install langchain # 安装 LangChain\n",
    "pip install llama-index # 安装 LlamaIndex\n",
    "```\n",
    "# 3. 安装 Faiss 和 Milvus 包\n",
    "```\n",
    "pip install faiss-cpu pymilvus # 基础组件\n",
    "\n",
    "pip install llama-index-embeddings-huggingface llama-index-vector-stores-faiss # LlamaIndex 的 Faiss 组件\n",
    "pip install langchain_community # LangChain 的 Faiss 组件\n",
    "\n",
    "pip install llama-index-vector-stores-milvus # LlamaIndex 的 Milvus 组件\n",
    "pip install langchain_milvus # LangChain 的 Milvus 组件\n",
    "```\n",
    "也可以合到一起安装，指令略。到此环境的初始工作完成。"
   ]
  },
  {
   "cell_type": "markdown",
   "metadata": {},
   "source": []
  }
 ],
 "metadata": {
  "kernelspec": {
   "display_name": "rag",
   "language": "python",
   "name": "python3"
  },
  "language_info": {
   "name": "python",
   "version": "3.11.10"
  }
 },
 "nbformat": 4,
 "nbformat_minor": 2
}
